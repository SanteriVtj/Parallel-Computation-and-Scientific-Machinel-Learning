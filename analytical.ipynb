{
 "cells": [
  {
   "attachments": {},
   "cell_type": "markdown",
   "metadata": {},
   "source": [
    "## 1.\n",
    "$$\n",
    "    x_{n+1}=x_n-\\left(\\frac{dg}{dx}(x_n) \\right)^{-1}g(x_n) \\\\\n",
    "    \\text{s.t. }\\det\\frac{dg}{dx}\\neq 0 \\\\\n",
    "    $$\n",
    "For SS:\n",
    "$$\n",
    "x_{n+1}=x_n=x^* \\\\\n",
    "\\begin{align*}\n",
    "    &\\Rightarrow x^*-x^*=-\\left(\\frac{dg}{dx}(x^*) \\right)^{-1}g(x^*) \\\\\n",
    "    &\\Rightarrow -\\left(\\frac{dg}{dx}(x^*) \\right)^{-1}g(x^*)=0 \\\\\n",
    "    &\\Rightarrow g(x^*)=0\n",
    "\\end{align*}\n",
    "$$\n",
    "\n",
    "## 2."
   ]
  }
 ],
 "metadata": {
  "language_info": {
   "name": "python"
  },
  "orig_nbformat": 4
 },
 "nbformat": 4,
 "nbformat_minor": 2
}
